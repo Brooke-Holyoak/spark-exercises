{
 "cells": [
  {
   "cell_type": "code",
   "execution_count": 3,
   "id": "5bf9f31e-bb36-4b9b-95d1-3418b46e5a46",
   "metadata": {},
   "outputs": [],
   "source": [
    "import pandas as pd\n",
    "import numpy as np\n",
    "import pyspark"
   ]
  },
  {
   "cell_type": "markdown",
   "id": "f0fa9fb7-baa5-4b59-a570-61a1a5878973",
   "metadata": {},
   "source": [
    "# Mini Exercises"
   ]
  },
  {
   "cell_type": "code",
   "execution_count": 4,
   "id": "c8950806-fcea-4a94-8fcd-7dc95a65bf3e",
   "metadata": {},
   "outputs": [],
   "source": [
    "np.random.seed(13)\n",
    "\n",
    "pandas_dataframe = pd.DataFrame({\n",
    "    \"n\": np.random.randn(20),\n",
    "    \"group\": np.random.choice(list(\"xyz\"), 20),\n",
    "    \"abool\": np.random.choice([True, False], 20),\n",
    "})"
   ]
  },
  {
   "cell_type": "code",
   "execution_count": 5,
   "id": "b109761f-74c4-4094-8499-87970c5995e5",
   "metadata": {},
   "outputs": [],
   "source": [
    "spark = pyspark.sql.SparkSession.builder.getOrCreate()"
   ]
  },
  {
   "cell_type": "code",
   "execution_count": 6,
   "id": "fabe989d-8357-4317-b123-ce9ac863f088",
   "metadata": {},
   "outputs": [],
   "source": [
    "#converting pandas datafram to a spark dataframe\n",
    "df = spark.createDataFrame(pandas_dataframe)"
   ]
  },
  {
   "cell_type": "code",
   "execution_count": 7,
   "id": "e53edd79-6d1b-429e-82d7-9ff6348ab684",
   "metadata": {},
   "outputs": [],
   "source": [
    "first_three_rows = df.head(3)"
   ]
  },
  {
   "cell_type": "code",
   "execution_count": 17,
   "id": "580f6130-bab2-432d-ae24-7a07cfd926b8",
   "metadata": {},
   "outputs": [
    {
     "data": {
      "text/plain": [
       "[Row(n=-0.712390662050588, group='z', abool=False),\n",
       " Row(n=0.753766378659703, group='x', abool=False),\n",
       " Row(n=-0.044503078338053455, group='z', abool=False)]"
      ]
     },
     "execution_count": 17,
     "metadata": {},
     "output_type": "execute_result"
    }
   ],
   "source": [
    "first_three_rows"
   ]
  },
  {
   "cell_type": "code",
   "execution_count": 21,
   "id": "31989a9d-39bc-4920-9013-06f3d425b0ae",
   "metadata": {},
   "outputs": [
    {
     "name": "stdout",
     "output_type": "stream",
     "text": [
      "+--------------------+-----+-----+\n",
      "|                   n|group|abool|\n",
      "+--------------------+-----+-----+\n",
      "|  -0.712390662050588|    z|false|\n",
      "|   0.753766378659703|    x|false|\n",
      "|-0.04450307833805...|    z|false|\n",
      "+--------------------+-----+-----+\n",
      "only showing top 3 rows\n",
      "\n"
     ]
    }
   ],
   "source": [
    "df.show(3)"
   ]
  },
  {
   "cell_type": "code",
   "execution_count": 18,
   "id": "f0de7993-319d-449a-864f-f699761383bf",
   "metadata": {},
   "outputs": [],
   "source": [
    "first_seven_rows = df.head(7)"
   ]
  },
  {
   "cell_type": "code",
   "execution_count": 20,
   "id": "c9211c6e-39db-4652-bf14-a29dd86e1658",
   "metadata": {},
   "outputs": [
    {
     "data": {
      "text/plain": [
       "[Row(n=-0.712390662050588, group='z', abool=False),\n",
       " Row(n=0.753766378659703, group='x', abool=False),\n",
       " Row(n=-0.044503078338053455, group='z', abool=False),\n",
       " Row(n=0.45181233874578974, group='y', abool=False),\n",
       " Row(n=1.3451017084510097, group='z', abool=False),\n",
       " Row(n=0.5323378882945463, group='y', abool=False),\n",
       " Row(n=1.3501878997225267, group='z', abool=False)]"
      ]
     },
     "execution_count": 20,
     "metadata": {},
     "output_type": "execute_result"
    }
   ],
   "source": [
    "first_seven_rows"
   ]
  },
  {
   "cell_type": "code",
   "execution_count": 22,
   "id": "cd91c364-8158-4e2b-b0a9-40338e1d6de2",
   "metadata": {},
   "outputs": [
    {
     "name": "stdout",
     "output_type": "stream",
     "text": [
      "+--------------------+-----+-----+\n",
      "|                   n|group|abool|\n",
      "+--------------------+-----+-----+\n",
      "|  -0.712390662050588|    z|false|\n",
      "|   0.753766378659703|    x|false|\n",
      "|-0.04450307833805...|    z|false|\n",
      "| 0.45181233874578974|    y|false|\n",
      "|  1.3451017084510097|    z|false|\n",
      "|  0.5323378882945463|    y|false|\n",
      "|  1.3501878997225267|    z|false|\n",
      "+--------------------+-----+-----+\n",
      "only showing top 7 rows\n",
      "\n"
     ]
    }
   ],
   "source": [
    "df.show(7)"
   ]
  },
  {
   "cell_type": "code",
   "execution_count": 13,
   "id": "bf7dc836-bc3a-44bd-a814-3e2cbfa4e47b",
   "metadata": {},
   "outputs": [
    {
     "name": "stdout",
     "output_type": "stream",
     "text": [
      "+--------------------+-----+-----+\n",
      "|                   n|group|abool|\n",
      "+--------------------+-----+-----+\n",
      "|  -0.712390662050588|    z|false|\n",
      "|   0.753766378659703|    x|false|\n",
      "|-0.04450307833805...|    z|false|\n",
      "| 0.45181233874578974|    y|false|\n",
      "|  1.3451017084510097|    z|false|\n",
      "|  0.5323378882945463|    y|false|\n",
      "|  1.3501878997225267|    z|false|\n",
      "|  0.8612113741693206|    x|false|\n",
      "|  1.4786857374358966|    z| true|\n",
      "| -1.0453771305385342|    y| true|\n",
      "| -0.7889890249515489|    x|false|\n",
      "|  -1.261605945319069|    y|false|\n",
      "|  0.5628467852810314|    y| true|\n",
      "|-0.24332625188556253|    y| true|\n",
      "|  0.9137407048596775|    y|false|\n",
      "| 0.31735092273633597|    x|false|\n",
      "| 0.12730328020698067|    z|false|\n",
      "|  2.1503829673811126|    y| true|\n",
      "|  0.6062886568962988|    x|false|\n",
      "|-0.02677164998644...|    x| true|\n",
      "+--------------------+-----+-----+\n",
      "\n"
     ]
    }
   ],
   "source": [
    "df.select('n', 'group', 'abool').show()"
   ]
  },
  {
   "cell_type": "markdown",
   "id": "94eadeb6-526d-44ea-b023-60e211413e4f",
   "metadata": {},
   "source": [
    "View a summary of the data using `.describe`."
   ]
  },
  {
   "cell_type": "code",
   "execution_count": 15,
   "id": "9ecb476e-5efc-4fbd-843c-3e258347042b",
   "metadata": {},
   "outputs": [
    {
     "data": {
      "text/plain": [
       "<bound method DataFrame.describe of DataFrame[n: double, group: string, abool: boolean]>"
      ]
     },
     "execution_count": 15,
     "metadata": {},
     "output_type": "execute_result"
    }
   ],
   "source": [
    "df.describe"
   ]
  },
  {
   "cell_type": "markdown",
   "id": "af83a565-08bb-4bfb-9cf4-c7b2b9279fbe",
   "metadata": {},
   "source": [
    "Use `.select` to create a new dataframe with just the `n` and `abool`\n",
    "       columns. View the first 5 rows of this dataframe."
   ]
  },
  {
   "cell_type": "code",
   "execution_count": 23,
   "id": "884a11d9-1c71-423f-9c2c-bdf9343051e4",
   "metadata": {},
   "outputs": [
    {
     "name": "stdout",
     "output_type": "stream",
     "text": [
      "+--------------------+-----+\n",
      "|                   n|abool|\n",
      "+--------------------+-----+\n",
      "|  -0.712390662050588|false|\n",
      "|   0.753766378659703|false|\n",
      "|-0.04450307833805...|false|\n",
      "| 0.45181233874578974|false|\n",
      "|  1.3451017084510097|false|\n",
      "+--------------------+-----+\n",
      "only showing top 5 rows\n",
      "\n"
     ]
    }
   ],
   "source": [
    "df.select('n', 'abool').show(5)"
   ]
  },
  {
   "cell_type": "markdown",
   "id": "d7fdbbbe-5364-4762-9577-3c86c65e886e",
   "metadata": {},
   "source": [
    "Use `.select` to create a new dataframe with just the `group` and `abool`\n",
    "       columns. View the first 5 rows of this dataframe."
   ]
  },
  {
   "cell_type": "code",
   "execution_count": 24,
   "id": "6e040c5e-7380-4760-bb77-4b684fe90652",
   "metadata": {},
   "outputs": [
    {
     "name": "stdout",
     "output_type": "stream",
     "text": [
      "+-----+-----+\n",
      "|group|abool|\n",
      "+-----+-----+\n",
      "|    z|false|\n",
      "|    x|false|\n",
      "|    z|false|\n",
      "|    y|false|\n",
      "|    z|false|\n",
      "+-----+-----+\n",
      "only showing top 5 rows\n",
      "\n"
     ]
    }
   ],
   "source": [
    "df.select('group', 'abool').show(5)"
   ]
  },
  {
   "cell_type": "markdown",
   "id": "a8d398a2-9d57-407f-bc3d-510bd6c61c74",
   "metadata": {},
   "source": [
    "Use `.select` to create a new dataframe with the `group` column and the\n",
    "       `abool` column renamed to `a_boolean_value`. Show the first 3 rows of\n",
    "       this dataframe."
   ]
  },
  {
   "cell_type": "code",
   "execution_count": 30,
   "id": "683c4193-4b06-40ce-bb03-b8169b33f438",
   "metadata": {},
   "outputs": [],
   "source": [
    "#tip_percentage = tips.tip / tips.total_bill\n",
    "#tip_percentage.alias('tip_perc')\n",
    "#tips.select('*', tip_percentage.alias('tip_perc'))"
   ]
  },
  {
   "cell_type": "code",
   "execution_count": null,
   "id": "058ef0e4-ffed-4b0f-90ac-ca9fcdeba34d",
   "metadata": {},
   "outputs": [],
   "source": []
  },
  {
   "cell_type": "code",
   "execution_count": null,
   "id": "d4d16053-c786-44a3-909c-7279a78a836f",
   "metadata": {},
   "outputs": [],
   "source": []
  },
  {
   "cell_type": "code",
   "execution_count": null,
   "id": "fce12f0a-4594-464c-9b78-c7eb485705e0",
   "metadata": {},
   "outputs": [],
   "source": []
  },
  {
   "cell_type": "code",
   "execution_count": null,
   "id": "5bd40664-b754-49f2-9d51-5f2a9bfce5e5",
   "metadata": {},
   "outputs": [],
   "source": []
  },
  {
   "cell_type": "code",
   "execution_count": null,
   "id": "022c49b2-16fd-4c62-87ac-cc305d171149",
   "metadata": {},
   "outputs": [],
   "source": []
  },
  {
   "cell_type": "code",
   "execution_count": null,
   "id": "8a1377fe-b60c-4298-babe-98bcc1597268",
   "metadata": {},
   "outputs": [],
   "source": []
  },
  {
   "cell_type": "markdown",
   "id": "87e167f9-13c7-4221-847b-eed30b1a8942",
   "metadata": {},
   "source": [
    "# Exercises"
   ]
  },
  {
   "cell_type": "code",
   "execution_count": 38,
   "id": "fd5a5ba5-891b-4e8e-97bb-3ec554aff8ef",
   "metadata": {},
   "outputs": [],
   "source": [
    "# Note: The pyspark avg and mean functions are aliases of eachother\n",
    "# from pyspark.sql.functions import concat, sum, avg, min, max, count, mean\n",
    "from pyspark.sql.functions import *"
   ]
  },
  {
   "cell_type": "code",
   "execution_count": 39,
   "id": "a0811458-8e2b-41b0-9ee8-2d03ee812627",
   "metadata": {},
   "outputs": [
    {
     "name": "stdout",
     "output_type": "stream",
     "text": [
      "+------------+-----+-----+----+---+----------+---+---+---+---+-------+\n",
      "|manufacturer|model|displ|year|cyl|     trans|drv|cty|hwy| fl|  class|\n",
      "+------------+-----+-----+----+---+----------+---+---+---+---+-------+\n",
      "|        audi|   a4|  1.8|1999|  4|  auto(l5)|  f| 18| 29|  p|compact|\n",
      "|        audi|   a4|  1.8|1999|  4|manual(m5)|  f| 21| 29|  p|compact|\n",
      "|        audi|   a4|  2.0|2008|  4|manual(m6)|  f| 20| 31|  p|compact|\n",
      "|        audi|   a4|  2.0|2008|  4|  auto(av)|  f| 21| 30|  p|compact|\n",
      "|        audi|   a4|  2.8|1999|  6|  auto(l5)|  f| 16| 26|  p|compact|\n",
      "+------------+-----+-----+----+---+----------+---+---+---+---+-------+\n",
      "only showing top 5 rows\n",
      "\n"
     ]
    }
   ],
   "source": [
    "from pydataset import data\n",
    "\n",
    "mpg = spark.createDataFrame(data(\"mpg\"))\n",
    "mpg.show(5)"
   ]
  },
  {
   "cell_type": "markdown",
   "id": "7ac4b123-43b9-4921-86a0-e5b74b46fb7e",
   "metadata": {},
   "source": [
    "#### Create 1 column of output that contains a message like the one below:\n",
    "\n",
    " - The 1999 audi a4 has a 4 cylinder engine.\n",
    " - Transform the trans column so that it only contains either manual or auto."
   ]
  },
  {
   "cell_type": "code",
   "execution_count": 56,
   "id": "fad6e526-af5a-43c2-9bb6-c794c6b0c96e",
   "metadata": {},
   "outputs": [],
   "source": [
    "#min_date, max_date = weather.select(min(\"date\"), max(\"date\")).first()\n",
    "#min_date, max_date\n",
    "\n",
    "year_made, manufactured_by, the_model, n_cyl = mpg.select('year'), mpg.select('manufacturer'), mpg.select('model'), mpg.select('cyl')"
   ]
  },
  {
   "cell_type": "code",
   "execution_count": 53,
   "id": "d01c6409-ddc3-4d0b-93bd-965a1b6a7447",
   "metadata": {},
   "outputs": [
    {
     "data": {
      "text/plain": [
       "Row(year=1999)"
      ]
     },
     "execution_count": 53,
     "metadata": {},
     "output_type": "execute_result"
    }
   ],
   "source": [
    "#print(weather.count(), \"rows\", len(weather.columns), \"columns\")\n",
    "year_made"
   ]
  },
  {
   "cell_type": "code",
   "execution_count": null,
   "id": "e9738775-2a54-40e5-9e63-8c659e6fb867",
   "metadata": {},
   "outputs": [],
   "source": []
  }
 ],
 "metadata": {
  "kernelspec": {
   "display_name": "Python 3",
   "language": "python",
   "name": "python3"
  },
  "language_info": {
   "codemirror_mode": {
    "name": "ipython",
    "version": 3
   },
   "file_extension": ".py",
   "mimetype": "text/x-python",
   "name": "python",
   "nbconvert_exporter": "python",
   "pygments_lexer": "ipython3",
   "version": "3.8.8"
  }
 },
 "nbformat": 4,
 "nbformat_minor": 5
}
